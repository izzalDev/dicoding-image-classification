{
  "nbformat": 4,
  "nbformat_minor": 0,
  "metadata": {
    "colab": {
      "provenance": []
    },
    "kernelspec": {
      "name": "python3",
      "display_name": "Python 3"
    },
    "language_info": {
      "name": "python"
    },
    "accelerator": "GPU",
    "gpuClass": "standard"
  },
  "cells": [
    {
      "cell_type": "markdown",
      "source": [
        "# NAMA : RIZAL FADLULLAH<br>\n",
        "# EMAIL : rizal.fadlullah@gmail.com"
      ],
      "metadata": {
        "id": "0abJZVcv7BZm"
      }
    },
    {
      "cell_type": "code",
      "source": [
        "!wget -q --show-progress --load-cookies /tmp/cookies.txt \"https://docs.google.com/uc?export=download&confirm=$(wget --quiet --save-cookies /tmp/cookies.txt --keep-session-cookies --no-check-certificate 'https://docs.google.com/uc?export=download&id=1gVlyNFK6Nx5zJZc1nEdjU7vg0SaEUJOm' -O- | sed -rn 's/.*confirm=([0-9A-Za-z_]+).*/\\1\\n/p')&id=1gVlyNFK6Nx5zJZc1nEdjU7vg0SaEUJOm\" -O dataset.zip && rm -rf /tmp/cookies.txt\n",
        "!unzip -qq -o dataset.zip\n",
        "!pip install livelossplot -q --quiet"
      ],
      "metadata": {
        "colab": {
          "base_uri": "https://localhost:8080/"
        },
        "id": "uQXnQXPdwiiL",
        "outputId": "65d6dd3b-3093-41a8-cddd-aa722b4179ac"
      },
      "execution_count": 26,
      "outputs": [
        {
          "output_type": "stream",
          "name": "stdout",
          "text": [
            "dataset.zip         100%[===================>]  62.13M   289MB/s    in 0.2s    \n"
          ]
        }
      ]
    },
    {
      "cell_type": "code",
      "source": [
        "import os\n",
        "import tensorflow as tf\n",
        "import matplotlib.pyplot as plt\n",
        "import numpy as np\n",
        "from google.colab import files\n",
        "import os\n",
        "import pathlib"
      ],
      "metadata": {
        "id": "WTePUx7CmemS"
      },
      "execution_count": 27,
      "outputs": []
    },
    {
      "cell_type": "code",
      "source": [
        "img_height = 150\n",
        "img_width = 150\n",
        "batch_size = 20\n",
        "\n",
        "datagen = tf.keras.preprocessing.image.ImageDataGenerator(\n",
        "  rescale=1./255,\n",
        "  rotation_range=90,\n",
        "  horizontal_flip=True, \n",
        "  vertical_flip=True,\n",
        "  validation_split=0.2)\n",
        "\n",
        "train_generator = datagen.flow_from_directory(\n",
        "    \"dataset/\",\n",
        "    target_size=(img_height, img_width),\n",
        "    batch_size=batch_size,\n",
        "    class_mode=\"categorical\",\n",
        "    subset=\"training\",\n",
        "    shuffle=True,\n",
        ")\n",
        "val_generator = datagen.flow_from_directory(\n",
        "    \"dataset/\",\n",
        "    target_size=(img_height, img_width),\n",
        "    batch_size=batch_size,\n",
        "    class_mode=\"categorical\",\n",
        "    subset=\"validation\",\n",
        "    shuffle=True,\n",
        ")"
      ],
      "metadata": {
        "colab": {
          "base_uri": "https://localhost:8080/"
        },
        "id": "SvoB4n82mmEv",
        "outputId": "81755878-cc01-4316-e782-6ec6bb8abbb7"
      },
      "execution_count": 28,
      "outputs": [
        {
          "output_type": "stream",
          "name": "stdout",
          "text": [
            "Found 4800 images belonging to 3 classes.\n",
            "Found 1200 images belonging to 3 classes.\n"
          ]
        }
      ]
    },
    {
      "cell_type": "code",
      "source": [
        "model = tf.keras.models.Sequential([\n",
        "    tf.keras.applications.ResNet152V2(weights=\"imagenet\", include_top=False, input_tensor=tf.keras.layers.Input(shape=(img_width, img_height, 3))),\n",
        "    tf.keras.layers.MaxPool2D(2,2),\n",
        "    tf.keras.layers.Flatten(),\n",
        "    tf.keras.layers.Dense(2048, activation='relu'),\n",
        "    tf.keras.layers.Dense(512, activation='relu'),\n",
        "    tf.keras.layers.Dense(256, activation='relu'),\n",
        "    tf.keras.layers.Dense(3, activation='softmax')\n",
        "])\n",
        "model.summary()"
      ],
      "metadata": {
        "colab": {
          "base_uri": "https://localhost:8080/"
        },
        "id": "sk7b3ud4nCvv",
        "outputId": "2563eaac-6577-4b4c-ebe9-e1046f2b7cc0"
      },
      "execution_count": 29,
      "outputs": [
        {
          "output_type": "stream",
          "name": "stdout",
          "text": [
            "Model: \"sequential_3\"\n",
            "_________________________________________________________________\n",
            " Layer (type)                Output Shape              Param #   \n",
            "=================================================================\n",
            " resnet152v2 (Functional)    (None, 5, 5, 2048)        58331648  \n",
            "                                                                 \n",
            " max_pooling2d_15 (MaxPoolin  (None, 2, 2, 2048)       0         \n",
            " g2D)                                                            \n",
            "                                                                 \n",
            " flatten_3 (Flatten)         (None, 8192)              0         \n",
            "                                                                 \n",
            " dense_12 (Dense)            (None, 2048)              16779264  \n",
            "                                                                 \n",
            " dense_13 (Dense)            (None, 512)               1049088   \n",
            "                                                                 \n",
            " dense_14 (Dense)            (None, 256)               131328    \n",
            "                                                                 \n",
            " dense_15 (Dense)            (None, 3)                 771       \n",
            "                                                                 \n",
            "=================================================================\n",
            "Total params: 76,292,099\n",
            "Trainable params: 76,148,355\n",
            "Non-trainable params: 143,744\n",
            "_________________________________________________________________\n"
          ]
        }
      ]
    },
    {
      "cell_type": "code",
      "source": [
        "opt = tf.keras.optimizers.SGD(learning_rate=0.01, momentum=0.9)\n",
        "model.compile(loss='categorical_crossentropy', optimizer=opt, metrics=['accuracy'])"
      ],
      "metadata": {
        "id": "J6AcORVXnP7A"
      },
      "execution_count": 30,
      "outputs": []
    },
    {
      "cell_type": "code",
      "source": [
        "class myCallback(tf.keras.callbacks.Callback):\n",
        "  def on_epoch_end(self, epoch, logs={}):\n",
        "    if(logs.get('val_loss')<0.20):\n",
        "      print(\"\\nLoss telah mencapai < 0.2\")\n",
        "      self.model.stop_training = True\n",
        "callbacks = myCallback()"
      ],
      "metadata": {
        "id": "uGXWSaiI5qJW"
      },
      "execution_count": 35,
      "outputs": []
    },
    {
      "cell_type": "code",
      "source": [
        "history = model.fit(\n",
        "  train_generator,\n",
        "  epochs=200,\n",
        "  validation_data=val_generator,\n",
        "  validation_steps=4,\n",
        "  callbacks=[callbacks]\n",
        ")"
      ],
      "metadata": {
        "colab": {
          "base_uri": "https://localhost:8080/"
        },
        "id": "ID1PBvH5nR78",
        "outputId": "51701518-80c4-4f53-afb2-258ca7383d83"
      },
      "execution_count": 36,
      "outputs": [
        {
          "output_type": "stream",
          "name": "stdout",
          "text": [
            "Epoch 1/200\n",
            "240/240 [==============================] - 70s 291ms/step - loss: 0.3785 - accuracy: 0.8608 - val_loss: 0.9315 - val_accuracy: 0.7250\n",
            "Epoch 2/200\n",
            "240/240 [==============================] - 71s 297ms/step - loss: 0.3606 - accuracy: 0.8679 - val_loss: 0.7059 - val_accuracy: 0.7250\n",
            "Epoch 3/200\n",
            "240/240 [==============================] - 72s 299ms/step - loss: 0.3486 - accuracy: 0.8727 - val_loss: 0.4852 - val_accuracy: 0.8250\n",
            "Epoch 4/200\n",
            "240/240 [==============================] - 72s 301ms/step - loss: 0.3323 - accuracy: 0.8800 - val_loss: 0.5186 - val_accuracy: 0.8000\n",
            "Epoch 5/200\n",
            "240/240 [==============================] - 73s 305ms/step - loss: 0.3270 - accuracy: 0.8815 - val_loss: 1.0999 - val_accuracy: 0.5875\n",
            "Epoch 6/200\n",
            "240/240 [==============================] - 73s 304ms/step - loss: 0.3185 - accuracy: 0.8848 - val_loss: 0.4255 - val_accuracy: 0.8750\n",
            "Epoch 7/200\n",
            "240/240 [==============================] - 73s 302ms/step - loss: 0.3093 - accuracy: 0.8852 - val_loss: 3.8899 - val_accuracy: 0.4125\n",
            "Epoch 8/200\n",
            "240/240 [==============================] - 73s 303ms/step - loss: 0.2876 - accuracy: 0.8973 - val_loss: 0.5570 - val_accuracy: 0.7375\n",
            "Epoch 9/200\n",
            "240/240 [==============================] - 73s 303ms/step - loss: 0.2884 - accuracy: 0.8944 - val_loss: 1.1217 - val_accuracy: 0.6500\n",
            "Epoch 10/200\n",
            "240/240 [==============================] - 73s 305ms/step - loss: 0.2815 - accuracy: 0.9019 - val_loss: 0.6398 - val_accuracy: 0.7875\n",
            "Epoch 11/200\n",
            "240/240 [==============================] - 73s 303ms/step - loss: 0.2757 - accuracy: 0.9008 - val_loss: 0.4385 - val_accuracy: 0.8250\n",
            "Epoch 12/200\n",
            "240/240 [==============================] - 73s 303ms/step - loss: 0.2756 - accuracy: 0.9044 - val_loss: 0.4936 - val_accuracy: 0.7625\n",
            "Epoch 13/200\n",
            "240/240 [==============================] - 73s 302ms/step - loss: 0.2647 - accuracy: 0.9040 - val_loss: 0.3028 - val_accuracy: 0.9000\n",
            "Epoch 14/200\n",
            "240/240 [==============================] - 73s 304ms/step - loss: 0.2539 - accuracy: 0.9073 - val_loss: 0.5371 - val_accuracy: 0.8750\n",
            "Epoch 15/200\n",
            "240/240 [==============================] - 73s 303ms/step - loss: 0.2432 - accuracy: 0.9119 - val_loss: 0.5295 - val_accuracy: 0.8375\n",
            "Epoch 16/200\n",
            "240/240 [==============================] - 73s 302ms/step - loss: 0.2378 - accuracy: 0.9162 - val_loss: 0.6921 - val_accuracy: 0.8250\n",
            "Epoch 17/200\n",
            "240/240 [==============================] - 73s 303ms/step - loss: 0.2415 - accuracy: 0.9115 - val_loss: 0.7759 - val_accuracy: 0.7750\n",
            "Epoch 18/200\n",
            "240/240 [==============================] - 73s 305ms/step - loss: 0.2223 - accuracy: 0.9210 - val_loss: 0.3957 - val_accuracy: 0.8375\n",
            "Epoch 19/200\n",
            "240/240 [==============================] - 73s 302ms/step - loss: 0.2229 - accuracy: 0.9229 - val_loss: 0.6343 - val_accuracy: 0.8250\n",
            "Epoch 20/200\n",
            "240/240 [==============================] - 73s 302ms/step - loss: 0.2131 - accuracy: 0.9250 - val_loss: 0.2856 - val_accuracy: 0.8875\n",
            "Epoch 21/200\n",
            "240/240 [==============================] - 73s 302ms/step - loss: 0.2012 - accuracy: 0.9292 - val_loss: 0.4078 - val_accuracy: 0.9000\n",
            "Epoch 22/200\n",
            "240/240 [==============================] - 73s 304ms/step - loss: 0.2041 - accuracy: 0.9267 - val_loss: 0.8375 - val_accuracy: 0.6875\n",
            "Epoch 23/200\n",
            "240/240 [==============================] - 73s 303ms/step - loss: 0.1921 - accuracy: 0.9317 - val_loss: 0.4099 - val_accuracy: 0.8625\n",
            "Epoch 24/200\n",
            "240/240 [==============================] - 73s 302ms/step - loss: 0.2064 - accuracy: 0.9267 - val_loss: 0.2517 - val_accuracy: 0.9000\n",
            "Epoch 25/200\n",
            "240/240 [==============================] - 73s 302ms/step - loss: 0.1962 - accuracy: 0.9265 - val_loss: 0.2528 - val_accuracy: 0.9250\n",
            "Epoch 26/200\n",
            "240/240 [==============================] - 73s 304ms/step - loss: 0.1871 - accuracy: 0.9335 - val_loss: 0.3611 - val_accuracy: 0.8875\n",
            "Epoch 27/200\n",
            "240/240 [==============================] - 73s 303ms/step - loss: 0.1824 - accuracy: 0.9362 - val_loss: 0.9285 - val_accuracy: 0.6875\n",
            "Epoch 28/200\n",
            "240/240 [==============================] - 73s 302ms/step - loss: 0.1738 - accuracy: 0.9396 - val_loss: 0.6104 - val_accuracy: 0.8250\n",
            "Epoch 29/200\n",
            "240/240 [==============================] - 73s 302ms/step - loss: 0.1700 - accuracy: 0.9398 - val_loss: 0.5746 - val_accuracy: 0.8500\n",
            "Epoch 30/200\n",
            "240/240 [==============================] - 73s 305ms/step - loss: 0.1685 - accuracy: 0.9398 - val_loss: 0.2492 - val_accuracy: 0.9000\n",
            "Epoch 31/200\n",
            "240/240 [==============================] - 73s 303ms/step - loss: 0.1697 - accuracy: 0.9362 - val_loss: 0.3964 - val_accuracy: 0.8750\n",
            "Epoch 32/200\n",
            "240/240 [==============================] - 73s 302ms/step - loss: 0.1663 - accuracy: 0.9446 - val_loss: 1.2746 - val_accuracy: 0.6875\n",
            "Epoch 33/200\n",
            "240/240 [==============================] - 73s 303ms/step - loss: 0.1507 - accuracy: 0.9467 - val_loss: 0.2627 - val_accuracy: 0.9250\n",
            "Epoch 34/200\n",
            "240/240 [==============================] - 73s 304ms/step - loss: 0.1585 - accuracy: 0.9438 - val_loss: 0.4347 - val_accuracy: 0.8750\n",
            "Epoch 35/200\n",
            "240/240 [==============================] - 73s 302ms/step - loss: 0.1501 - accuracy: 0.9456 - val_loss: 3.1406 - val_accuracy: 0.6000\n",
            "Epoch 36/200\n",
            "240/240 [==============================] - 73s 303ms/step - loss: 0.1624 - accuracy: 0.9425 - val_loss: 0.3460 - val_accuracy: 0.9000\n",
            "Epoch 37/200\n",
            "240/240 [==============================] - 73s 302ms/step - loss: 0.1447 - accuracy: 0.9500 - val_loss: 0.3523 - val_accuracy: 0.9125\n",
            "Epoch 38/200\n",
            "240/240 [==============================] - 73s 305ms/step - loss: 0.1468 - accuracy: 0.9469 - val_loss: 0.4954 - val_accuracy: 0.8250\n",
            "Epoch 39/200\n",
            "240/240 [==============================] - 73s 303ms/step - loss: 0.1414 - accuracy: 0.9475 - val_loss: 0.3639 - val_accuracy: 0.8625\n",
            "Epoch 40/200\n",
            "240/240 [==============================] - 73s 303ms/step - loss: 0.1431 - accuracy: 0.9519 - val_loss: 0.5613 - val_accuracy: 0.8500\n",
            "Epoch 41/200\n",
            "240/240 [==============================] - 75s 311ms/step - loss: 0.1342 - accuracy: 0.9567 - val_loss: 0.3851 - val_accuracy: 0.8750\n",
            "Epoch 42/200\n",
            "240/240 [==============================] - ETA: 0s - loss: 0.1193 - accuracy: 0.9635\n",
            "Loss telah mencapai < 0.2\n",
            "240/240 [==============================] - 74s 306ms/step - loss: 0.1193 - accuracy: 0.9635 - val_loss: 0.1897 - val_accuracy: 0.9375\n"
          ]
        }
      ]
    },
    {
      "cell_type": "code",
      "source": [
        "test_loss, test_acc = model.evaluate(train_generator)\n",
        "print ('\\nTest accuracy:', test_acc)"
      ],
      "metadata": {
        "colab": {
          "base_uri": "https://localhost:8080/"
        },
        "id": "qXif063QF0St",
        "outputId": "48e9af66-f166-4308-afba-a3e4cac2c887"
      },
      "execution_count": 37,
      "outputs": [
        {
          "output_type": "stream",
          "name": "stdout",
          "text": [
            "240/240 [==============================] - 35s 145ms/step - loss: 0.0998 - accuracy: 0.9652\n",
            "\n",
            "Test accuracy: 0.9652083516120911\n"
          ]
        }
      ]
    },
    {
      "cell_type": "code",
      "source": [
        "#@title Train & Validation Plot\n",
        "fig, (ax1, ax2) = plt.subplots(1, 2, figsize=(20, 5))\n",
        "fig.suptitle('Train & Validation Plot')\n",
        "ax1.set_title('Accuracy')\n",
        "ax1.plot(history.history['accuracy'])\n",
        "ax1.plot(history.history['val_accuracy'])\n",
        "ax1.set_ylabel('accuracy')\n",
        "ax1.set_xlabel('epoch')\n",
        "ax1.legend(['train', 'val'], loc='upper left')\n",
        "ax2.set_title('loss')\n",
        "ax2.plot(history.history['loss'])\n",
        "ax2.plot(history.history['val_loss'])\n",
        "ax2.legend(['train', 'val'], loc='upper left')\n",
        "ax2.set_ylabel('loss')\n",
        "ax2.set_xlabel('epoch')\n",
        "plt.show()"
      ],
      "metadata": {
        "id": "TjJxTwxL4BOs",
        "cellView": "form",
        "colab": {
          "base_uri": "https://localhost:8080/",
          "height": 370
        },
        "outputId": "eb32722a-e5b1-45cd-b637-247d7ded673c"
      },
      "execution_count": 38,
      "outputs": [
        {
          "output_type": "display_data",
          "data": {
            "text/plain": [
              "<Figure size 1440x360 with 2 Axes>"
            ],
            "image/png": "[encoded data removed]"
          },
          "metadata": {
            "needs_background": "light"
          }
        }
      ]
    },
    {
      "cell_type": "code",
      "source": [
        "export_dir = 'saved_model/'\n",
        "tf.saved_model.save(model, export_dir)\n",
        "\n",
        "converter = tf.lite.TFLiteConverter.from_saved_model(export_dir)\n",
        "tflite_model = converter.convert()\n",
        " \n",
        "tflite_model_file = pathlib.Path('fastfood_classification.tflite')\n",
        "tflite_model_file.write_bytes(tflite_model)"
      ],
      "metadata": {
        "id": "xQ9xY9D08LPr",
        "colab": {
          "base_uri": "https://localhost:8080/"
        },
        "outputId": "60ab4f72-a94e-41a6-8381-74e444bf5eb3"
      },
      "execution_count": 39,
      "outputs": [
        {
          "output_type": "stream",
          "name": "stderr",
          "text": [
            "WARNING:absl:Found untraced functions such as _jit_compiled_convolution_op, _jit_compiled_convolution_op, _jit_compiled_convolution_op, _jit_compiled_convolution_op, _jit_compiled_convolution_op while saving (showing 5 of 155). These functions will not be directly callable after loading.\n"
          ]
        },
        {
          "output_type": "execute_result",
          "data": {
            "text/plain": [
              "304661316"
            ]
          },
          "metadata": {},
          "execution_count": 39
        }
      ]
    }
  ]
}